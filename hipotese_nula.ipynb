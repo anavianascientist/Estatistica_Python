{
  "nbformat": 4,
  "nbformat_minor": 0,
  "metadata": {
    "jupytext": {
      "cell_metadata_filter": "-all",
      "main_language": "python",
      "notebook_metadata_filter": "-all"
    },
    "kernelspec": {
      "display_name": "Python 3",
      "language": "python",
      "name": "python3"
    },
    "language_info": {
      "codemirror_mode": {
        "name": "ipython",
        "version": 3
      },
      "file_extension": ".py",
      "mimetype": "text/x-python",
      "name": "python",
      "nbconvert_exporter": "python",
      "pygments_lexer": "ipython3",
      "version": "3.7.6"
    },
    "colab": {
      "name": "hipotese_nula.ipynb",
      "provenance": [],
      "include_colab_link": true
    }
  },
  "cells": [
    {
      "cell_type": "markdown",
      "metadata": {
        "id": "view-in-github",
        "colab_type": "text"
      },
      "source": [
        "<a href=\"https://colab.research.google.com/github/anavianascientist/Estatistica_Python/blob/master/hipotese_nula.ipynb\" target=\"_parent\"><img src=\"https://colab.research.google.com/assets/colab-badge.svg\" alt=\"Open In Colab\"/></a>"
      ]
    },
    {
      "cell_type": "markdown",
      "metadata": {
        "id": "j3s57f0GZLHG",
        "colab_type": "text"
      },
      "source": [
        "\n",
        "# Teste distribuição normal"
      ]
    },
    {
      "cell_type": "code",
      "metadata": {
        "id": "GLpa8G4dZLHW",
        "colab_type": "code",
        "colab": {}
      },
      "source": [
        "# Importação das bibliotecas: matplotlib para geração de gráficos\n",
        "from scipy import stats\n",
        "from scipy.stats import norm, skewnorm\n",
        "import matplotlib.pyplot as plt"
      ],
      "execution_count": 1,
      "outputs": []
    },
    {
      "cell_type": "code",
      "metadata": {
        "id": "WMYKNyKkZLHl",
        "colab_type": "code",
        "colab": {
          "base_uri": "https://localhost:8080/",
          "height": 1000
        },
        "outputId": "2357b2d8-6477-45b9-df8e-ec8691bd9933"
      },
      "source": [
        "# Criação de uma variável com dados em uma distribuição normal com a função rvs (100 elementos)\n",
        "dados = norm.rvs(size = 1000)\n",
        "dados"
      ],
      "execution_count": 2,
      "outputs": [
        {
          "output_type": "execute_result",
          "data": {
            "text/plain": [
              "array([-4.45332318e-01, -8.05105196e-01,  8.92621176e-02, -3.57642594e-01,\n",
              "       -1.73710802e-03, -2.23250683e+00,  2.81175369e-01, -2.27280697e-01,\n",
              "       -1.69062998e+00,  4.07317005e-01,  9.60514716e-01, -4.49309340e-01,\n",
              "        7.35965470e-01, -2.81053555e-01,  2.70997833e-01,  1.13147745e-01,\n",
              "       -1.15994293e+00, -6.81830169e-01, -1.41086994e+00,  4.31525422e-02,\n",
              "        2.94660298e+00,  3.58818121e-01,  2.37433822e-01, -5.94128940e-02,\n",
              "        1.71004096e-01, -3.41610682e-01, -2.40220930e+00, -1.40803409e+00,\n",
              "        1.44805536e+00, -1.54014144e+00, -9.64549252e-01, -2.97381695e-01,\n",
              "        1.33809608e+00, -2.15228737e-02,  1.01157292e+00,  3.86867337e-01,\n",
              "        6.20309371e-01,  1.47342730e+00, -6.55747581e-01, -1.57176382e+00,\n",
              "        1.09455357e+00, -8.99178347e-01, -5.01734758e-02, -4.92987274e-01,\n",
              "        1.18147201e+00, -6.44212141e-01,  4.07075920e-01, -3.30947552e-02,\n",
              "        8.35785298e-01, -1.40340338e-01,  2.30624934e-01, -2.09695779e-01,\n",
              "       -4.38797314e-01,  4.38224812e-01, -1.20259619e+00, -7.64252342e-01,\n",
              "        5.98373688e-01, -4.78729571e-01, -1.17611745e+00,  2.06413975e+00,\n",
              "       -4.72200426e-01, -7.92843705e-01,  6.43728772e-01, -1.18076829e+00,\n",
              "        6.87466669e-01,  6.13491723e-01, -1.00734936e+00, -4.71846489e-01,\n",
              "        1.06796965e+00, -1.41616341e+00, -7.70868865e-01, -1.61403041e-01,\n",
              "        1.09722574e+00, -2.98613392e-01, -1.21007242e+00,  2.10205954e-01,\n",
              "        1.02109277e+00, -9.23360469e-01,  6.91712335e-01, -1.11313955e+00,\n",
              "        5.37614088e-01,  1.10351022e+00,  3.26000857e-01, -1.99802408e+00,\n",
              "       -1.91091931e+00,  2.13503906e-01, -1.30719717e+00,  8.01996621e-01,\n",
              "        1.48258999e+00,  1.56636729e+00,  5.52582005e-01,  7.40331696e-01,\n",
              "       -5.71661895e-01,  4.28958744e-01, -8.46044054e-01,  7.51029330e-02,\n",
              "        1.01000613e+00,  4.52667621e-01,  8.98722612e-01, -4.52219584e-01,\n",
              "        5.79550703e-01,  4.61595521e-01, -1.47224335e+00, -6.11423524e-01,\n",
              "        1.12862917e+00,  3.51222001e-01, -2.99690956e-01,  2.66172858e-01,\n",
              "       -3.66373764e-01, -4.33000531e-01,  3.84692455e-01,  9.88326060e-01,\n",
              "        1.12123072e+00, -7.29014298e-01, -2.00757505e+00, -5.57402852e-02,\n",
              "        1.08027711e+00,  1.94173792e+00, -5.05007444e-01, -2.73153784e-01,\n",
              "        8.11259332e-01,  1.27558935e+00,  3.26133232e-01,  2.97948203e+00,\n",
              "        2.35474436e-01,  2.17403661e+00,  7.59303806e-02,  1.61728154e+00,\n",
              "       -7.69032410e-01, -9.67988300e-01,  1.52467523e+00, -1.32382700e+00,\n",
              "        8.51397293e-02,  5.09555960e-02, -8.27353668e-01,  3.68747373e-01,\n",
              "       -9.83066763e-01,  2.96386444e-02, -1.17993798e+00, -1.09121453e+00,\n",
              "       -1.23351881e-01,  8.56565363e-01, -2.30393537e-01, -2.35189188e-01,\n",
              "        9.60785611e-01,  1.15187259e+00,  7.25365632e-01, -3.61865794e-01,\n",
              "        4.45155862e-02,  4.76349204e-01,  1.28704149e+00,  5.04845492e-02,\n",
              "        1.24093119e+00, -1.23117351e+00,  1.68932469e+00, -1.01662833e+00,\n",
              "       -5.21146856e-01, -2.04472586e-02, -1.99681367e-01, -5.40605034e-01,\n",
              "        1.44661702e+00, -8.27262820e-01, -1.04281269e+00, -8.02526505e-01,\n",
              "       -7.03390239e-01,  7.18338874e-01,  6.40863569e-01,  1.42315220e+00,\n",
              "       -1.38211652e+00,  4.05042806e-01, -4.28380822e-02, -6.92018372e-02,\n",
              "        9.75635734e-01, -8.51918040e-01, -1.34401101e+00,  4.32543593e-01,\n",
              "       -1.16710524e+00,  9.88659827e-01, -8.87925052e-01,  1.75313171e+00,\n",
              "        3.46346863e-01, -5.28881657e-01,  1.51414537e+00, -2.14539506e-01,\n",
              "        1.95834514e+00, -4.33466754e-02,  1.23095723e+00, -1.33428532e+00,\n",
              "       -9.15128175e-01, -2.50659328e+00,  1.17490694e+00, -1.96609774e-01,\n",
              "        1.50991934e-01, -1.01554645e+00,  1.77873739e-01, -8.80509845e-01,\n",
              "        5.12666895e-01,  2.53933649e+00,  3.85983018e-02, -1.00274238e+00,\n",
              "        7.87621418e-01,  1.68953420e+00,  8.94164041e-01, -1.78249571e-01,\n",
              "        1.05474418e+00,  4.66047524e-01,  3.93608132e-01, -9.33128285e-01,\n",
              "        9.13665120e-01, -2.60413925e+00,  6.59897141e-01, -1.57516962e-01,\n",
              "        1.45015122e+00,  4.05025902e-01, -1.68803358e+00,  1.24267589e+00,\n",
              "       -9.24555175e-01,  7.78690451e-01,  3.30652540e-01,  9.14060042e-01,\n",
              "       -8.51481083e-02,  2.27272274e-01, -7.75205083e-01,  4.98264142e-01,\n",
              "        1.71873337e+00, -1.39828125e-01,  1.76644324e+00, -6.09362392e-01,\n",
              "        4.28837632e-01,  1.04445189e+00,  7.98207311e-02, -4.75701296e-01,\n",
              "        9.24523868e-02,  1.67264338e+00,  6.26424883e-01,  1.33305441e+00,\n",
              "        5.34606327e-01, -1.34676877e+00, -4.44081369e-01,  1.81814805e+00,\n",
              "       -1.77939558e+00, -9.48256925e-01,  2.05228305e+00, -2.39376437e+00,\n",
              "        3.73273086e-01, -6.49760934e-01, -1.16461601e+00,  4.70826653e-01,\n",
              "       -4.71928935e-01,  1.73552955e-01, -3.04762459e-01,  6.28423553e-01,\n",
              "       -4.59140777e-01, -6.57783955e-01,  4.43123581e-01,  3.61958501e-01,\n",
              "        1.07757529e+00, -1.11995202e+00,  1.73884526e+00,  1.74510163e+00,\n",
              "       -1.68778545e+00,  9.44575260e-01,  1.11711243e+00,  1.40951574e+00,\n",
              "       -5.00448000e-01,  8.79013376e-01,  8.72827947e-01, -1.26173843e+00,\n",
              "       -8.77000157e-01, -6.21823353e-01,  9.07979837e-01,  1.29802646e+00,\n",
              "       -4.03001602e-01, -8.48847881e-01, -1.77435882e+00, -1.25366397e-01,\n",
              "        6.64145540e-01,  1.61515613e+00, -2.34224468e+00, -9.79282404e-02,\n",
              "       -1.80509243e-01,  2.04059025e-01, -8.69977039e-01, -1.53589571e+00,\n",
              "        2.10675190e+00,  6.40176738e-02,  1.15529240e+00,  5.57066128e-01,\n",
              "       -1.01523160e-01,  1.59417412e-01, -1.44737217e+00,  1.00607831e+00,\n",
              "        7.14182380e-01, -4.68875647e-01,  2.80158531e-01,  1.29489686e-01,\n",
              "        3.04801665e-02,  1.05926626e+00, -1.72793512e+00,  2.99136685e-01,\n",
              "        4.55626008e-01, -1.66988710e-02,  1.41346345e-01, -3.07575749e-01,\n",
              "       -1.13352933e+00, -8.47725178e-01, -8.40383455e-01,  4.46409927e-01,\n",
              "        9.34044421e-03, -1.14023380e+00,  2.54827794e-01, -1.09722800e-01,\n",
              "        6.62014368e-01,  6.20201086e-01,  1.35261313e+00, -2.65161693e-01,\n",
              "       -2.75669706e-01, -3.99177100e-01, -5.94098224e-01,  5.47917727e-01,\n",
              "        2.87388239e-01, -2.71832957e-01,  3.28538304e-01,  3.34199222e-01,\n",
              "        1.06874815e+00,  7.19973502e-01, -1.55915332e+00, -6.92830567e-01,\n",
              "        2.56756570e-01, -1.67992341e-01, -5.89362883e-01,  7.36259857e-01,\n",
              "        8.38952157e-01, -3.78293820e-01, -8.29117256e-01, -9.32455052e-01,\n",
              "       -6.89673015e-01, -2.52882814e-01, -6.21309020e-01, -1.66104318e+00,\n",
              "        5.52525292e-01, -2.86545587e-02,  2.06003993e+00,  1.31323752e+00,\n",
              "       -1.15971962e+00, -1.01624556e+00,  1.60015394e-02,  6.51108411e-02,\n",
              "       -6.62830954e-01, -9.16733845e-02, -9.58352650e-01,  1.21426349e+00,\n",
              "        1.67260936e-01,  3.44233862e-01,  9.53989234e-01,  9.31847575e-01,\n",
              "        4.09137543e-01,  2.72676657e-01, -4.65477213e-01, -8.49208503e-01,\n",
              "       -3.29513272e-01,  1.25451072e+00, -3.20421609e-01, -4.42704146e-01,\n",
              "       -2.88562373e-01,  1.02007509e+00,  5.85078022e-01,  9.10940533e-01,\n",
              "       -3.35400853e-01, -5.61907959e-01, -1.92285652e+00, -6.99878017e-02,\n",
              "        1.35304065e+00, -5.58925330e-01,  2.45421813e+00,  1.09968948e+00,\n",
              "        9.37502190e-01,  1.14219428e+00, -1.23445437e+00, -1.25757049e+00,\n",
              "        6.15951046e-01,  6.78391753e-01,  2.98275863e-01,  1.35898291e+00,\n",
              "        2.85688621e-02, -3.96071292e-01,  2.88211737e-01, -2.59513364e-01,\n",
              "        1.53517946e+00,  3.08931080e-02, -7.19729176e-02, -9.98531979e-01,\n",
              "       -1.42402753e+00, -1.97453700e-01,  1.09713091e+00, -3.06378101e-01,\n",
              "        8.55109216e-01,  4.18279059e-01,  1.64064465e-02, -4.75558022e-01,\n",
              "        1.54608822e+00,  1.90467604e+00,  1.16426555e+00, -5.72556223e-01,\n",
              "        7.42911112e-01, -3.62325552e-01, -1.25222739e+00,  1.71314846e+00,\n",
              "       -1.21705550e+00,  4.74968242e-01, -8.24615173e-01,  2.19351026e-01,\n",
              "       -3.89787735e-01,  5.45155684e-01, -5.90342393e-01, -7.81293886e-01,\n",
              "        6.79151314e-01,  4.52773209e-01,  5.85612631e-02, -1.19145777e+00,\n",
              "       -1.20320430e+00, -5.08060886e-01, -1.02997199e+00, -5.80272377e-01,\n",
              "       -1.05586107e+00,  4.38134166e-01,  2.39143278e-01,  8.06687725e-02,\n",
              "        6.90080452e-01, -5.63827799e-01, -7.54915337e-01,  5.71991684e-01,\n",
              "       -1.63966167e+00,  3.63101531e-01, -6.52701316e-01, -3.32208722e-01,\n",
              "        1.67131582e+00, -1.87736469e+00, -2.91426604e-01,  5.77467199e-01,\n",
              "       -6.78135305e-01,  9.08905519e-01,  1.48235775e+00, -1.67653630e+00,\n",
              "       -1.49565707e+00,  1.00329703e-01, -5.95936120e-01,  3.02261366e-01,\n",
              "        4.07023057e-02, -2.41237280e-01,  8.07138452e-01, -3.80213122e-01,\n",
              "       -5.59163342e-01, -8.11607759e-01, -5.36467829e-01, -1.00568346e+00,\n",
              "        1.51036355e-01, -1.01882301e+00, -1.09792274e+00,  2.27591181e-01,\n",
              "        1.26640082e+00, -8.46312550e-02, -3.78834674e-01, -1.23768578e+00,\n",
              "       -1.11747546e+00,  2.11802191e+00,  1.31680898e+00, -1.13163460e+00,\n",
              "       -7.65622883e-01,  5.70023556e-01,  6.55607577e-02, -1.21497923e-01,\n",
              "       -2.61017100e-01,  8.94807700e-01, -1.38868212e+00, -5.47303888e-01,\n",
              "        7.94617722e-01,  1.16159992e+00,  2.90571513e-01,  8.20485839e-01,\n",
              "       -4.32853655e-01, -8.26584957e-02,  1.12306101e+00, -4.99834607e-01,\n",
              "       -4.32161898e-01,  1.24255234e+00,  5.45163485e-01,  2.62974219e-01,\n",
              "        8.72845504e-01,  3.12549229e-01,  3.56635454e-01, -5.13857781e-01,\n",
              "        2.36154070e-01, -5.73504423e-02, -9.86106161e-01,  2.09715588e+00,\n",
              "       -5.45498117e-01, -1.50882262e-01, -7.85385581e-01, -5.17845333e-01,\n",
              "        3.37870671e-01, -9.27789581e-02, -5.19630056e-01, -1.29504879e+00,\n",
              "       -1.38872812e-01, -1.23362209e+00, -1.03763848e-01,  4.25716429e-01,\n",
              "        5.20454315e-01, -1.22901095e+00, -6.68915203e-01,  3.01556143e-01,\n",
              "       -1.18595522e-01, -6.21754979e-01, -4.72917760e-01,  3.04185059e-01,\n",
              "       -1.26759275e-01, -4.13742740e-01,  4.21602841e-01,  3.64053009e-01,\n",
              "        5.35202874e-01, -1.80385907e-01,  3.41133843e-02, -6.95437263e-01,\n",
              "       -2.33945879e-01, -1.05924746e+00, -1.60925735e+00, -2.02761213e+00,\n",
              "       -5.04028124e-01, -3.25645856e-01,  5.92151751e-01, -4.08968305e-01,\n",
              "        1.35617326e+00, -1.59170998e+00,  1.60173648e+00,  1.75501415e+00,\n",
              "       -2.51930431e+00,  1.51102816e+00,  1.25088049e+00,  1.94636983e-01,\n",
              "        1.03328901e-01,  4.26361101e-02, -1.65845879e-01, -2.25475630e+00,\n",
              "        5.62422172e-01,  1.11175168e+00, -3.04612116e-01,  1.54799173e-01,\n",
              "       -5.03289373e-01, -3.29768715e-01,  1.84457780e-01,  1.64355362e-01,\n",
              "       -1.90187827e-01,  2.18904463e+00, -1.07131423e+00, -2.76262651e-01,\n",
              "        4.48030494e-01, -2.20970148e-01, -1.30885365e+00, -1.22412029e-01,\n",
              "        7.70259974e-01, -1.23809393e-01, -4.45948464e-01, -1.99439229e-01,\n",
              "        9.04547098e-01, -2.28069587e-01,  1.85962850e-01, -4.93625931e-01,\n",
              "       -8.66276406e-01,  1.77968873e-01,  3.89967797e-01,  1.35595673e-01,\n",
              "        1.59385465e+00,  2.20586703e+00, -6.69197611e-01,  2.24815448e+00,\n",
              "       -1.08819134e+00, -1.32833327e+00,  4.66450695e-01,  2.48243919e-01,\n",
              "        1.52736879e+00,  6.52976352e-01,  1.45620407e+00,  4.78784738e-02,\n",
              "        1.90823559e+00, -8.50785905e-01,  1.22685361e+00,  1.94147477e-01,\n",
              "       -3.30830837e-01,  6.23303243e-01,  1.36139281e+00, -4.38068129e-01,\n",
              "       -2.19563690e-01, -9.16223845e-01,  3.98653436e-01, -1.72626093e+00,\n",
              "       -1.09112049e+00, -4.50453147e-01, -1.27406314e-01,  7.51913005e-01,\n",
              "       -8.39773868e-01,  6.36733552e-01,  7.02586439e-01,  2.37970922e-01,\n",
              "        1.68590835e+00,  3.87717822e-01, -4.97012101e-01,  1.38181787e+00,\n",
              "        1.71679150e+00, -3.11381978e-01, -1.35015239e+00, -5.23873614e-01,\n",
              "        7.99061381e-01,  7.52127426e-01, -7.26697669e-01, -1.09888638e+00,\n",
              "       -6.94879480e-01, -1.32946166e-01,  1.29127466e+00, -2.76233565e-01,\n",
              "        2.48634279e-01, -1.89545494e+00,  4.53574372e-01,  4.27333937e-01,\n",
              "        9.34152909e-01, -7.20212982e-01, -1.03020418e+00,  9.80382917e-01,\n",
              "        8.05528758e-01,  1.25260352e+00,  9.11426778e-02, -1.86589229e-01,\n",
              "       -4.03744042e-01, -3.81346193e-01,  6.38270479e-01, -1.30741774e-01,\n",
              "       -1.19664484e+00,  6.07462406e-01,  4.16032572e-01,  3.04501122e+00,\n",
              "        3.22567597e-01, -1.96502589e-01,  3.47331777e-01,  2.61290669e-01,\n",
              "       -1.20697408e+00,  1.40932257e+00, -1.63260604e+00, -1.25973527e+00,\n",
              "       -1.28103477e+00,  2.37112805e-01,  2.07593427e-01,  3.07957665e-01,\n",
              "       -1.08244810e+00, -1.41714601e+00,  5.42146544e-01,  1.57816925e+00,\n",
              "        3.92730275e-01,  6.54825048e-04, -9.10636003e-01,  1.05733397e+00,\n",
              "        1.22952874e+00,  1.59878848e-01,  2.57482409e+00, -3.25280832e-02,\n",
              "        6.89024123e-01, -1.46446787e+00, -2.17885735e-01,  3.10840324e-01,\n",
              "        6.89720492e-01, -1.76174573e+00, -4.74965931e-01,  1.32182041e-01,\n",
              "       -3.98977067e-02, -1.14899859e+00, -7.57401711e-01, -1.58230602e+00,\n",
              "        1.92012319e-01,  1.13775257e+00,  8.86785036e-02,  6.00350985e-01,\n",
              "       -1.03815772e+00,  1.77238974e+00, -2.12492838e+00, -5.43129129e-02,\n",
              "        1.65597975e+00, -1.26010709e-01, -1.58334057e+00,  9.85281408e-01,\n",
              "        4.45765282e-01,  1.88864261e-02,  5.29109221e-01, -6.09571193e-01,\n",
              "       -1.13080910e+00,  5.08858263e-01, -5.20406046e-01,  1.49311773e-01,\n",
              "        8.06859696e-01, -1.02645329e+00, -3.49390697e-01,  1.91755405e+00,\n",
              "       -3.42675503e-01, -4.76572895e-01, -5.26070425e-01, -6.03832840e-01,\n",
              "       -1.27731341e+00, -1.03856254e-01, -7.24216458e-01, -3.30553609e-01,\n",
              "        1.91008210e-01,  9.87274714e-01, -4.27014791e-02,  8.87500812e-01,\n",
              "        3.26552563e-01,  8.67548000e-01, -6.95229198e-02,  4.85327873e-02,\n",
              "       -2.08820457e+00,  6.70180668e-01,  5.66288152e-02,  8.30532755e-01,\n",
              "       -1.42840749e+00, -1.95209729e-02, -1.98187929e+00, -8.74451712e-01,\n",
              "        3.37700071e-02,  1.02079448e+00, -1.82229112e-01, -2.07279580e+00,\n",
              "       -7.17974474e-01, -2.76108070e+00,  2.15037275e-01,  8.84247751e-01,\n",
              "        5.05006165e-01, -1.90037077e+00, -2.82303946e-01, -8.08846638e-01,\n",
              "       -2.67673045e-02,  7.03251572e-02, -2.90704590e-01,  8.75772033e-01,\n",
              "        1.64625843e+00, -2.51974041e-01,  4.46592842e-01, -1.59446180e+00,\n",
              "        1.00776897e+00,  3.16043000e-01,  1.17187721e+00,  1.02645526e+00,\n",
              "        7.82775823e-01, -6.45685900e-01,  3.17626443e-01, -3.75036096e-01,\n",
              "        8.99884374e-02, -2.58569465e-02, -1.29049504e-01, -4.44293445e-01,\n",
              "       -5.47360800e-01,  1.43968420e-01,  9.41326109e-02, -2.33470839e-01,\n",
              "        2.53286414e-01,  5.37401049e-02,  2.50623855e+00, -6.28258265e-02,\n",
              "        3.31749690e-01, -3.41907481e-01, -1.46598015e+00,  2.10667145e-01,\n",
              "       -1.41857843e+00, -7.36100523e-01,  2.68378340e-01,  1.73764708e-01,\n",
              "        1.27658923e-01, -3.29787528e-01, -1.38503288e+00, -1.59620434e-01,\n",
              "        3.74027016e-02,  7.79950746e-01, -5.01820376e-01, -2.79130570e-01,\n",
              "        1.27778209e+00,  4.38213380e-01,  6.25153364e-01, -1.19871728e+00,\n",
              "        1.31584760e-01,  1.79878127e+00, -1.68126075e+00,  4.88472380e-01,\n",
              "       -9.19173874e-01,  1.38512957e+00, -5.97892770e-01, -1.27093851e-01,\n",
              "        4.24101809e-01, -5.80153126e-01,  9.55285572e-01, -1.26250705e+00,\n",
              "       -1.34356176e+00, -1.46874924e+00,  5.54315248e-01,  2.05380235e-01,\n",
              "       -1.35605322e+00,  9.87707494e-01, -1.72085171e+00, -2.58853397e+00,\n",
              "        1.61566962e-02, -1.16037686e+00, -7.90253954e-01,  7.58259446e-02,\n",
              "        8.69877252e-01, -3.37360795e-01, -2.32541047e-01, -5.95490170e-01,\n",
              "        1.02483188e+00, -1.21417791e+00,  1.56369223e+00, -1.73179940e+00,\n",
              "        1.55082551e+00,  9.22804186e-01, -1.47730799e+00,  6.38223010e-01,\n",
              "        8.18625638e-01,  1.12728233e+00, -2.04091498e+00,  1.08183452e+00,\n",
              "        4.73186370e-01, -1.60516341e+00, -3.80564374e-01,  8.48524834e-01,\n",
              "       -4.23171778e-02,  8.31109761e-02, -5.91170981e-02,  8.35086889e-02,\n",
              "        9.23559723e-02,  4.18010796e-01,  6.17848367e-01,  1.28495048e+00,\n",
              "        1.05422129e+00, -1.25421794e-02, -1.25013812e+00, -9.53314149e-02,\n",
              "       -6.51684727e-01,  4.93405108e-02,  1.59638817e+00,  1.00096121e+00,\n",
              "       -1.14531893e+00,  5.86693660e-01,  2.16600197e-01,  2.82821477e-01,\n",
              "       -3.43227107e-01,  8.22210925e-01, -1.75980343e-02, -3.97608469e-01,\n",
              "        1.41819810e+00, -2.60435045e-01, -1.53334716e-01, -7.96719696e-01,\n",
              "        5.39884889e-01,  4.24281354e-01, -1.28927717e+00,  1.16868088e+00,\n",
              "        2.61289702e-01, -1.20948184e-01, -3.29902157e-01, -7.96230860e-01,\n",
              "       -3.90314783e-01,  1.27075399e-01,  2.15201200e+00,  1.24565525e+00,\n",
              "       -2.74386261e-01,  3.27838228e-01,  8.17142326e-01, -5.94959752e-01,\n",
              "       -3.93957109e-01,  6.24906757e-01,  9.80370822e-02,  4.43127310e-01,\n",
              "        1.21885543e-01,  1.32162486e+00, -5.43140125e-01, -3.09516870e-01,\n",
              "        1.65397950e-01,  1.31963913e+00, -2.40582822e-01,  8.23599742e-01,\n",
              "       -1.22499673e+00, -9.70444164e-01, -6.10710171e-01, -1.69942408e+00,\n",
              "       -1.19314354e+00,  7.04444186e-01,  2.09106334e-01, -5.74737355e-01,\n",
              "       -1.88549893e+00, -8.44947176e-01, -3.39275373e-01, -6.12815633e-01,\n",
              "        4.26018353e-01,  1.55952828e+00,  4.68952128e-01,  4.33721292e-01,\n",
              "        3.00260088e-02, -7.83276431e-03, -3.57429735e-01, -6.27588446e-01,\n",
              "        8.09797871e-01, -2.04048931e+00,  6.03036362e-01,  4.05107211e-01,\n",
              "       -2.16402715e-01,  1.02440113e+00, -9.53129232e-01, -5.03471547e-01,\n",
              "       -6.96421650e-02,  9.42652414e-01,  1.39032713e+00,  8.76816320e-04,\n",
              "       -3.64556303e-01,  4.91872134e-01,  1.41390623e-01,  2.50619804e-01,\n",
              "       -6.32881685e-01, -8.68403622e-01, -7.84147002e-01, -1.30098220e+00,\n",
              "       -1.08440672e+00,  1.22628746e+00, -1.68871166e-01, -7.69155075e-01,\n",
              "       -1.43938714e-01, -5.73435315e-01, -1.14094661e-01,  1.32365971e+00,\n",
              "        6.08576822e-03, -1.20088504e-01, -1.11110930e+00,  1.86525731e+00,\n",
              "       -2.87528092e-01, -1.88334631e-01, -5.85094827e-01,  1.60629486e+00,\n",
              "       -8.73649615e-01, -9.98299787e-01,  1.49550342e+00,  1.74379427e-01,\n",
              "       -1.06365862e+00,  1.70455471e+00, -8.97971729e-01,  1.34766015e+00,\n",
              "        1.36236635e-03, -4.46181449e-01, -1.46326251e+00,  3.48311199e-01,\n",
              "        4.81095223e-01,  7.61315190e-01,  9.60576778e-01,  1.52669322e+00,\n",
              "       -4.03675094e-01,  6.54136606e-01, -1.66581165e-01,  8.29965795e-01,\n",
              "       -2.07394048e+00, -6.14719873e-03,  6.05689294e-01, -1.37907505e+00,\n",
              "        1.60737762e+00,  2.31915483e-01, -2.26832029e-01,  8.99772534e-01,\n",
              "       -1.68891214e-01, -9.09097766e-01,  5.10481215e-01, -6.67977326e-01,\n",
              "        5.14042596e-01,  6.30783642e-01,  7.62190767e-01, -2.28319933e-01,\n",
              "       -1.14997320e-01, -4.97836445e-01, -6.66797629e-01, -8.06070668e-01,\n",
              "       -1.47830945e-01, -8.39189986e-01, -8.20572035e-01, -1.64783333e-01,\n",
              "        3.06111798e-01, -9.90224997e-02, -1.28012647e+00,  1.45268974e-02,\n",
              "        1.38345908e-01, -1.57354748e+00, -9.10194705e-01,  1.27056498e+00,\n",
              "       -4.02747846e-01, -9.96442061e-01,  3.79461774e-01,  1.06458523e+00,\n",
              "        3.61444835e-01, -8.88668980e-01,  1.05369022e+00,  4.66147497e-01])"
            ]
          },
          "metadata": {
            "tags": []
          },
          "execution_count": 2
        }
      ]
    },
    {
      "cell_type": "code",
      "metadata": {
        "id": "vBgaNFPbZLHx",
        "colab_type": "code",
        "colab": {
          "base_uri": "https://localhost:8080/",
          "height": 298
        },
        "outputId": "e501a905-d670-42aa-896f-645aded0140e"
      },
      "source": [
        "#histograma \n",
        "#Comos os dados estao normalmente distribuidos os grafico deve lembrar um sino\n",
        "plt.hist(dados, bins = 20)\n",
        "plt.title('Dados')"
      ],
      "execution_count": 3,
      "outputs": [
        {
          "output_type": "execute_result",
          "data": {
            "text/plain": [
              "Text(0.5, 1.0, 'Dados')"
            ]
          },
          "metadata": {
            "tags": []
          },
          "execution_count": 3
        },
        {
          "output_type": "display_data",
          "data": {
            "image/png": "[encoded data removed]",
            "text/plain": [
              "<Figure size 432x288 with 1 Axes>"
            ]
          },
          "metadata": {
            "tags": [],
            "needs_background": "light"
          }
        }
      ]
    },
    {
      "cell_type": "code",
      "metadata": {
        "id": "1DzhLS61ZLIE",
        "colab_type": "code",
        "colab": {
          "base_uri": "https://localhost:8080/",
          "height": 295
        },
        "outputId": "a65f5bf4-dec9-4e04-94ad-e688cef1a4fe"
      },
      "source": [
        "# Geração de gráfico para verificar se a distribuição é normal\n",
        "fig, ax = plt.subplots()\n",
        "stats.probplot(dados, fit=True,   plot=ax)\n",
        "plt.show()"
      ],
      "execution_count": 4,
      "outputs": [
        {
          "output_type": "display_data",
          "data": {
            "image/png": "[encoded data removed]",
            "text/plain": [
              "<Figure size 432x288 with 1 Axes>"
            ]
          },
          "metadata": {
            "tags": [],
            "needs_background": "light"
          }
        }
      ]
    },
    {
      "cell_type": "code",
      "metadata": {
        "id": "D631Ui7zZLIZ",
        "colab_type": "code",
        "colab": {
          "base_uri": "https://localhost:8080/",
          "height": 34
        },
        "outputId": "3f55c990-7d5b-4337-c455-c33127fd696b"
      },
      "source": [
        "# Execução do teste de Shapiro\n",
        "#segundo argumento é o valor de p, não há como rejeitar a hipótese nula\n",
        "stats.shapiro(dados)"
      ],
      "execution_count": 5,
      "outputs": [
        {
          "output_type": "execute_result",
          "data": {
            "text/plain": [
              "(0.9990609288215637, 0.9027101993560791)"
            ]
          },
          "metadata": {
            "tags": []
          },
          "execution_count": 5
        }
      ]
    },
    {
      "cell_type": "markdown",
      "metadata": {
        "id": "qQVPdwELZLIw",
        "colab_type": "text"
      },
      "source": [
        "Dados não normais"
      ]
    },
    {
      "cell_type": "code",
      "metadata": {
        "id": "jlx3CKmJZLIy",
        "colab_type": "code",
        "colab": {}
      },
      "source": [
        "dados2 = skewnorm.rvs(4, size=1000)"
      ],
      "execution_count": 6,
      "outputs": []
    },
    {
      "cell_type": "code",
      "metadata": {
        "id": "LjANW1GvZLI-",
        "colab_type": "code",
        "colab": {
          "base_uri": "https://localhost:8080/",
          "height": 298
        },
        "outputId": "58c2dd0b-5a50-4da5-89c6-e6a84d6ae5a8"
      },
      "source": [
        "#histograma\n",
        "plt.hist(dados2, bins = 20)\n",
        "plt.title('Dados')"
      ],
      "execution_count": 7,
      "outputs": [
        {
          "output_type": "execute_result",
          "data": {
            "text/plain": [
              "Text(0.5, 1.0, 'Dados')"
            ]
          },
          "metadata": {
            "tags": []
          },
          "execution_count": 7
        },
        {
          "output_type": "display_data",
          "data": {
            "image/png": "[encoded data removed]",
            "text/plain": [
              "<Figure size 432x288 with 1 Axes>"
            ]
          },
          "metadata": {
            "tags": [],
            "needs_background": "light"
          }
        }
      ]
    },
    {
      "cell_type": "code",
      "metadata": {
        "id": "pCRHM39RZLJJ",
        "colab_type": "code",
        "colab": {
          "base_uri": "https://localhost:8080/",
          "height": 295
        },
        "outputId": "5e7c00b7-30d5-402c-e0e0-34b9f7eca782"
      },
      "source": [
        "# Geração de gráfico para verificar se a distribuição é normal\n",
        "fig, ax = plt.subplots()\n",
        "stats.probplot(dados2, fit=True,   plot=ax)\n",
        "plt.show()"
      ],
      "execution_count": 8,
      "outputs": [
        {
          "output_type": "display_data",
          "data": {
            "image/png": "[encoded data removed]",
            "text/plain": [
              "<Figure size 432x288 with 1 Axes>"
            ]
          },
          "metadata": {
            "tags": [],
            "needs_background": "light"
          }
        }
      ]
    },
    {
      "cell_type": "code",
      "metadata": {
        "id": "OFwG2vItZLJU",
        "colab_type": "code",
        "colab": {
          "base_uri": "https://localhost:8080/",
          "height": 34
        },
        "outputId": "02c1ebdc-38bd-43ee-880b-6b6dbd5d291a"
      },
      "source": [
        "#Temos indícios para rejeitar a hipótese nula\n",
        "stats.shapiro(dados2)"
      ],
      "execution_count": 9,
      "outputs": [
        {
          "output_type": "execute_result",
          "data": {
            "text/plain": [
              "(0.9656519293785095, 1.3034120122459598e-14)"
            ]
          },
          "metadata": {
            "tags": []
          },
          "execution_count": 9
        }
      ]
    },
    {
      "cell_type": "code",
      "metadata": {
        "id": "8CZTKrwvZLJd",
        "colab_type": "code",
        "colab": {}
      },
      "source": [
        ""
      ],
      "execution_count": null,
      "outputs": []
    }
  ]
}